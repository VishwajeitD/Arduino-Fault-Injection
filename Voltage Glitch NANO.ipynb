{
 "cells": [
  {
   "cell_type": "code",
   "execution_count": null,
   "id": "301a0129",
   "metadata": {},
   "outputs": [],
   "source": [
    "import chipwhisperer as cw\n",
    "import time\n",
    "\n",
    "SCOPETYPE = 'OPENADC'\n",
    "PLATFORM = 'CWLITEXMEGA'\n",
    "%run \"../../Setup_Scripts/Setup_Generic.ipynb\"\n",
    "\n",
    "cw.set_all_log_levels(cw.logging.CRITICAL)\n",
    "\n",
    "scope = cw.scope()\n",
    "\n",
    "time.sleep(0.05)\n",
    "scope.default_setup()\n",
    "\n",
    "scope.clock.clkgen_freq = 100E6 \n",
    "scope.glitch.clk_src = \"clkgen\"\n",
    "scope.glitch.output = \"enable_only\"\n",
    "scope.io.glitch_hp = True"
   ]
  },
  {
   "cell_type": "code",
   "execution_count": null,
   "id": "9dafeb70",
   "metadata": {},
   "outputs": [],
   "source": [
    "scope.glitch.repeat = 300\n",
    "scope.glitch.manual_trigger()\n",
    "10/1E6 * scope.glitch.repeat * 1E6"
   ]
  }
 ],
 "metadata": {
  "kernelspec": {
   "display_name": "Python 3 (ipykernel)",
   "language": "python",
   "name": "python3"
  },
  "language_info": {
   "codemirror_mode": {
    "name": "ipython",
    "version": 3
   },
   "file_extension": ".py",
   "mimetype": "text/x-python",
   "name": "python",
   "nbconvert_exporter": "python",
   "pygments_lexer": "ipython3",
   "version": "3.9.7"
  }
 },
 "nbformat": 4,
 "nbformat_minor": 5
}
